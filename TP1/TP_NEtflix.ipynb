{
  "cells": [
    {
      "cell_type": "markdown",
      "metadata": {
        "id": "view-in-github",
        "colab_type": "text"
      },
      "source": [
        "<a href=\"https://colab.research.google.com/github/enzomolloy/Tp-Netlix/blob/main/TP1/TP_NEtflix.ipynb\" target=\"_parent\"><img src=\"https://colab.research.google.com/assets/colab-badge.svg\" alt=\"Open In Colab\"/></a>"
      ]
    },
    {
      "cell_type": "markdown",
      "metadata": {
        "id": "9p-ygkmki4Qq"
      },
      "source": [
        "# Descarga del archivo + filtro de dispositivos "
      ]
    },
    {
      "cell_type": "markdown",
      "metadata": {
        "id": "Sq7lTD77DABT"
      },
      "source": [
        "1) Ignorar los siguientes dispositivos: 'Sony PS4', 'Netflix Windows App - Cadmium Windows Mobile', 'Apple iPhone 6s', 'Apple iPhone 7 Plus (CDMA)', 'Chrome PC (Cadmium)', 'Samsung 2015 NT14M DTV Smart TV', 'iPhone 5S GSM', 'Google Chromecast V3 Streaming Stick'.\n"
      ]
    },
    {
      "cell_type": "markdown",
      "metadata": {
        "id": "5-kJPvLfjrdD"
      },
      "source": [
        "Explicación: Creamos una lista de todos los dispositivos que vamos a eliminar. Luego hacemos un bucle for que recorre todos los dispositivos de la lista y creamos un nuevo dataframe en donde solo van a estar los dispositvos que son distintos a los de la lista."
      ]
    },
    {
      "cell_type": "code",
      "execution_count": 85,
      "metadata": {
        "id": "dMN3SQCiqYmW"
      },
      "outputs": [],
      "source": [
        "import pandas as pd\n",
        "import matplotlib.pyplot as plt\n",
        "import numpy as np\n",
        "import time\n",
        "import seaborn as sns\n",
        "from datetime import datetime\n",
        "\n",
        "\n",
        "df = pd.read_csv('NetflixHistory.csv')\n",
        "\n",
        "ForbiddenDevices = [\n",
        "    'Sony PS4',\n",
        "    'Netflix Windows App - Cadmium Windows Mobile',\n",
        "    'Apple iPhone 6s',\n",
        "    'Apple iPhone 7 Plus (CDMA)',\n",
        "    'Chrome PC (Cadmium)',\n",
        "    'Samsung 2015 NT14M DTV Smart TV',\n",
        "    'iPhone 5S GSM',\n",
        "    'Google Chromecast V3 Streaming Stick'\n",
        "]\n",
        "\n",
        "for i in ForbiddenDevices:\n",
        " df = df.loc[df[\"Device Type\"] != i]"
      ]
    },
    {
      "cell_type": "markdown",
      "metadata": {
        "id": "wnuklSS2hz8-"
      },
      "source": [
        "# EJ A"
      ]
    },
    {
      "cell_type": "markdown",
      "metadata": {
        "id": "mD5vs1_dDWwr"
      },
      "source": [
        "A) Contabilizar el dispositivo con el que más títulos se reprodujeron.\n"
      ]
    },
    {
      "cell_type": "markdown",
      "metadata": {
        "id": "LfG8Xss_j45i"
      },
      "source": [
        "Explicación: Contamos cuantas veces aparece cada dispositivo con la función value_counts() y para ver solo el primer valor agregar .head(1). El dispositivo en cuestion es el Apple Apple TV 4 Apple TV   con un total de 3519. "
      ]
    },
    {
      "cell_type": "code",
      "execution_count": 86,
      "metadata": {
        "colab": {
          "base_uri": "https://localhost:8080/"
        },
        "id": "w236HDVvDVJZ",
        "outputId": "7c5b497a-c755-4151-d07f-957c6be0742e"
      },
      "outputs": [
        {
          "output_type": "execute_result",
          "data": {
            "text/plain": [
              "Apple Apple TV 4 Apple TV    3519\n",
              "Name: Device Type, dtype: int64"
            ]
          },
          "metadata": {},
          "execution_count": 86
        }
      ],
      "source": [
        "df[\"Device Type\"].value_counts().head(1)"
      ]
    },
    {
      "cell_type": "markdown",
      "metadata": {
        "id": "HqIGSU2jhvNA"
      },
      "source": [
        "# EJ B\n"
      ]
    },
    {
      "cell_type": "markdown",
      "metadata": {
        "id": "nTwgizE6DtjP"
      },
      "source": [
        "B) Encontrar la película con más ocurrencias y la película con mayor duración total.\n"
      ]
    },
    {
      "cell_type": "markdown",
      "metadata": {
        "id": "xZyFT7tQ6vAJ"
      },
      "source": [
        "Explicación: Creamos un función para separar las peliculas de las series, esta funciona de forma tal que si el nombre contiene dos o mas \":\", significa que es una serie, es decir que nos devuelve False, porque queremos solo las peliculas. En el otro caso que nos devuelva True porque son las peliculas que queremos. \n",
        "Luego creamos el Dataframe \"TitleType\" que serian todos los \"Titles\" con el filtro de la funcion aplicados con la funcion .apply()"
      ]
    },
    {
      "cell_type": "code",
      "execution_count": 87,
      "metadata": {
        "id": "KuBJeDdso08x"
      },
      "outputs": [],
      "source": [
        "def TitleType(input):\n",
        "  if input.count(\":\") >=2:\n",
        "    return False\n",
        "  else: \n",
        "    return True \n",
        "\n",
        "df[\"TitleType\"] = df[\"Title\"].apply(TitleType)"
      ]
    },
    {
      "cell_type": "markdown",
      "metadata": {
        "id": "KRTXJDx99zuF"
      },
      "source": [
        "Explicación: Creamos un nuevo Dataframe llamado occurencias, le aplicamos el filtro de peliculas y contamos cuantas veces aparece el mismo titulo. Luego hacemos lo mismo que en el caso de arriba para mostrar el resultado. La pelicula con mas occurencias es The Redeemed and the Dominant: Fittest on Earth con un total de 12 veces vista."
      ]
    },
    {
      "cell_type": "code",
      "execution_count": 88,
      "metadata": {
        "colab": {
          "base_uri": "https://localhost:8080/"
        },
        "id": "bd9xBnWNrW-Y",
        "outputId": "ba81af94-9d53-4fd5-e51d-a33d27276a72"
      },
      "outputs": [
        {
          "output_type": "execute_result",
          "data": {
            "text/plain": [
              "El código enigma    7\n",
              "Name: Title, dtype: int64"
            ]
          },
          "metadata": {},
          "execution_count": 88
        }
      ],
      "source": [
        "occurencias = df[df[\"TitleType\"]][\"Title\"].value_counts()\n",
        "occurencias.sort_values(ascending=False).head(1) "
      ]
    },
    {
      "cell_type": "markdown",
      "metadata": {
        "id": "vpNI29kk7m1Q"
      },
      "source": [
        "Explicación: Aca creamos un nuevo Dataframe llamado duracion, le aplicamos el filtro de peliculas a la agrupación del titulo con la Suma de duración de este titulo, para luego mostrar el resultado en una lista que va de mayor a menor \"(ascending=False)\" y le agregamos el head(1) para que solo nos muestre el resultado en la poscición 1. La pelicula con mas duración total es El club de la pelea con 02 h y 20m"
      ]
    },
    {
      "cell_type": "code",
      "execution_count": 89,
      "metadata": {
        "colab": {
          "base_uri": "https://localhost:8080/"
        },
        "id": "ZzWaN5ZiD9pQ",
        "outputId": "c54af998-487d-420e-ccf0-bbe8700852be"
      },
      "outputs": [
        {
          "output_type": "execute_result",
          "data": {
            "text/plain": [
              "Title\n",
              "El club de la pelea    02:20:0502:20:11\n",
              "Name: Duration, dtype: object"
            ]
          },
          "metadata": {},
          "execution_count": 89
        }
      ],
      "source": [
        "duracion = df[df[\"TitleType\"]].groupby(\"Title\")[\"Duration\"].sum() \n",
        "duracion.sort_values(ascending=False).head(1) "
      ]
    },
    {
      "cell_type": "markdown",
      "metadata": {
        "id": "HhkYySjziV9G"
      },
      "source": [
        "# EJ C\n",
        "Generar un TOP “N” de series vistas y graficar."
      ]
    },
    {
      "cell_type": "markdown",
      "metadata": {
        "id": "Kz3ofnqUyi2i"
      },
      "source": [
        "C) Generar un TOP “N” de series vistas y graficar.\n",
        "\n",
        "Parte 1: Por tiempo visto"
      ]
    },
    {
      "cell_type": "markdown",
      "source": [
        "Explicación: Primero usamos la misma función de arriba para determinar si es una pelicula o una serie, solo cambiamos el orden de True o False. Luego creamos otra funcion para separar el nombre de la serie de el capitulo y solo quedarnos con el nombre. Abajo de esta funcion convertimos durartion a datetime, para luego crear el df de horas, el cual consiste en sacarles la cantidad de horas a duration, sumarle la cantidad de minutos/60 (para que te de la cantidad en horas) y luego sumarle los segundos/3600 (tambien para que te lo de en horas). Podemos extraee segundos, minutos y horas con las herramientas .dt() de datetime. Finalmente solo nos queda crear un dataframe de timepo, como en el caso del punto B2, solo que en vez de Title usamos Titulo Simple, que es el nombre de la serie separado del episodio y juntarlo con horas en vez de la duracion. Para terminar la graficamos como en los casos anteriores. El top se determina con la cantidad de titulos que pones en .head()"
      ],
      "metadata": {
        "id": "5oN9GO9g_lvP"
      }
    },
    {
      "cell_type": "code",
      "execution_count": 91,
      "metadata": {
        "colab": {
          "base_uri": "https://localhost:8080/",
          "height": 408
        },
        "id": "fsYznzUeymtZ",
        "outputId": "ed7df517-16c5-4b7b-8314-f98b51b62adf"
      },
      "outputs": [
        {
          "output_type": "execute_result",
          "data": {
            "text/plain": [
              "Text(0, 0.5, 'Tiempo (Horas)')"
            ]
          },
          "metadata": {},
          "execution_count": 91
        },
        {
          "output_type": "display_data",
          "data": {
            "text/plain": [
              "<Figure size 432x288 with 1 Axes>"
            ],
            "image/png": "[encoded data removed]"
          },
          "metadata": {
            "needs_background": "light"
          }
        }
      ],
      "source": [
        "def TitleType(input):\n",
        "  if input.count(\":\") >=2:\n",
        "    return True\n",
        "  else: \n",
        "    return False \n",
        "\n",
        "df[\"TitleType\"] = df[\"Title\"].apply(TitleType)\n",
        "\n",
        "def tituloseparado(input):\n",
        "  return input.split(':')[0]\n",
        "\n",
        "df[\"Titulo Simple\"] = df[\"Title\"].apply(tituloseparado)\n",
        "\n",
        "df[\"Duration\"] = pd.to_datetime(df[\"Duration\"], errors=\"raise\") \n",
        "  \n",
        "df[\"Horas\"] = df[\"Duration\"].dt.hour + df[\"Duration\"].dt.minute/60 + df[\"Duration\"].dt.second/3600 \n",
        "  \n",
        "tiempo = df[df[\"TitleType\"]].groupby(\"Titulo Simple\")[\"Horas\"].sum() \n",
        "tiempo.sort_values(ascending=False).head(5).plot.bar(stacked=True)\n",
        "\n",
        "plt.xlabel(\"Series\", fontSize=10)\n",
        "plt.ylabel(\"Tiempo (Horas)\", fontSize=10)\n"
      ]
    },
    {
      "cell_type": "markdown",
      "metadata": {
        "id": "iOhngTdkHisW"
      },
      "source": [
        "C) Parte 2\n",
        "\n",
        "Por ocurrencias\n"
      ]
    },
    {
      "cell_type": "markdown",
      "source": [
        "Explicación: Primero usamos la misma función de arriba para determinar si es una pelicula o una serie. Luego creamos otra funcion para separar el nombre de la serie del capitulo y solo quedarnos con el nombre. Esta parte era mas simples que la anterior ya que solo nos quedo contar la cantidad de veces que aperecio el Titulo Simple con value_counts() y graficarlo. El top se determina con la cantidad de titulos que pones en .head()"
      ],
      "metadata": {
        "id": "U7RCQ15ZLSYL"
      }
    },
    {
      "cell_type": "code",
      "execution_count": 92,
      "metadata": {
        "colab": {
          "base_uri": "https://localhost:8080/",
          "height": 408
        },
        "id": "XQPCDn91E3kr",
        "outputId": "194905db-bb93-4e1f-ce9d-e9efb1721ca3"
      },
      "outputs": [
        {
          "output_type": "execute_result",
          "data": {
            "text/plain": [
              "Text(0, 0.5, 'Occurencias')"
            ]
          },
          "metadata": {},
          "execution_count": 92
        },
        {
          "output_type": "display_data",
          "data": {
            "text/plain": [
              "<Figure size 432x288 with 1 Axes>"
            ],
            "image/png": "[encoded data removed]"
          },
          "metadata": {
            "needs_background": "light"
          }
        }
      ],
      "source": [
        "def TitleType(input):\n",
        "  if input.count(\":\") >=2:\n",
        "    return True\n",
        "  else: \n",
        "    return False \n",
        "\n",
        "df[\"TitleType\"] = df[\"Title\"].apply(TitleType)\n",
        "\n",
        "def tituloseparado(input):\n",
        "  return input.split(':')[0]\n",
        "\n",
        "df[\"Titulo Simple\"] = df[\"Title\"].apply(tituloseparado)\n",
        "\n",
        "occurencias = df[df[\"TitleType\"]][\"Titulo Simple\"].value_counts() \n",
        "occurencias.sort_values(ascending=False).head(5).plot.bar(stacked=True)\n",
        "\n",
        "plt.xlabel(\"Series\", fontSize=10)\n",
        "plt.ylabel(\"Occurencias\", fontSize=10)"
      ]
    },
    {
      "cell_type": "markdown",
      "metadata": {
        "id": "zSXoJMFSiWgd"
      },
      "source": [
        "# EJ D"
      ]
    },
    {
      "cell_type": "markdown",
      "source": [
        "Explicación: Al principio definimos una lista con todos los dias de la semana y otra con las horas del dia. Luego creamos un nuevo dataframe con las horas en el index y las dias en las columnas. Despues recorremos este dataframe e igualamos todos los valores a 0. Seguidamente, recorre la columna \"Start Time\" del dataframe original df y para cada valor, extrae el día de la semana y la hora, luego aumenta en 1 el número correspondiente en el dataframe df_new. Finalmente lo graficamos en forma de sns heatmap y lo modificamos para que se vea mejor. \n",
        "\n",
        "Aclaración 1: La función datetime.strptime() sirve para convertir un string a un objeto datetime. El primer argumento es el string a convertir y el segundo es el formato de ese string. Luego, el metodo .weekday() devuelve el numero del dia de la semana (0=lunes, 1=martes, ..., 6=domingo) del objeto datetime. Finalmente, el string que representa el dia de la semana se obtiene del array dias, que contiene los strings \"lunes\", \"martes\", etc.\n",
        "\n",
        "Aclaración 2: En hora = (i.split()[1]).split(\":\")[0], lo que hace el código es tomar la cadena i que contiene una fecha y hora y extrae solo la hora. Luego, divide la hora en los componentes de hora, minuto y segundo y devuelve solo la hora."
      ],
      "metadata": {
        "id": "U1mXc0LLybM3"
      }
    },
    {
      "cell_type": "code",
      "execution_count": 94,
      "metadata": {
        "colab": {
          "base_uri": "https://localhost:8080/",
          "height": 487
        },
        "id": "Utbf8bXwF_9b",
        "outputId": "001224eb-afba-4004-ce11-65df2d914448"
      },
      "outputs": [
        {
          "output_type": "execute_result",
          "data": {
            "text/plain": [
              "Text(0.5, 46.5, 'Dias')"
            ]
          },
          "metadata": {},
          "execution_count": 94
        },
        {
          "output_type": "display_data",
          "data": {
            "text/plain": [
              "<Figure size 720x540 with 2 Axes>"
            ],
            "image/png": "[encoded data removed]"
          },
          "metadata": {
            "needs_background": "light"
          }
        }
      ],
      "source": [
        "dias = [\"Lunes\", \"Martes\", \"Miercoles\", \"Jueves\", \"Viernes\", \"Sabado\", \"Domingo\"]\n",
        "horas = [\"01\", \"02\", \"03\", \"04\", \"05\", \"06\", \"07\", \"08\", \"09\", \"10\", \"11\", \"12\", \"13\", \"14\", \"15\", \"16\", \"17\", \"18\", \"19\", \"20\", \"21\", \"22\", \"23\", \"00\"]\n",
        "\n",
        "df_new = pd.DataFrame(index=horas, columns=dias)\n",
        "\n",
        "for horas in df_new.columns:\n",
        "    df_new[horas] = 0\n",
        "\n",
        "\n",
        "for i in df[\"Start Time\"]:\n",
        "  diasemana = datetime.strptime(i.split()[0], \"%Y-%m-%d\").weekday()\n",
        "  diasemana = dias[diasemana]\n",
        "  hora = (i.split()[1]).split(\":\")[0]\n",
        "  df_new[diasemana][hora] += 1\n",
        "\n",
        "df_new = df_new.astype(np.float64)\n",
        "fig = plt.figure(figsize = (10, 7.5))\n",
        "fig = sns.heatmap(df_new, center=0, linewidths=.1)\n",
        "plt.ylabel(\"Horas\")\n",
        "plt.xlabel(\"Dias\")"
      ]
    },
    {
      "cell_type": "markdown",
      "metadata": {
        "id": "G3SLD3t4imYi"
      },
      "source": [
        "# EJ E"
      ]
    },
    {
      "cell_type": "markdown",
      "metadata": {
        "id": "JwvzJKq4EGDe"
      },
      "source": [
        "E) Contabilizar la cantidad de títulos vistos por año, graficar su variación a través de los años.\n"
      ]
    },
    {
      "cell_type": "markdown",
      "metadata": {
        "id": "GXCLHZQS-x7I"
      },
      "source": [
        "Explicación: Aca convertimos el dataframe \"Start Time\" en una serie de tipo datetime, la cual nos organiza las fechas y nos brinda una opción que nos servira mas adelante. Luego creamos el dataframe anio, el cual va a contener los años de nuestro datetime creado arriba, para obtener el año en especifico usamos dt.year, la cual es una función de datetime que nos perimite obtener solo el año de nuestra fecha. Luego contamos la cantidad de veces que aparece cada año y la mostramos en forma de grafico. Para ver las cantidades exactas solo sacamos el grafico."
      ]
    },
    {
      "cell_type": "code",
      "execution_count": 95,
      "metadata": {
        "colab": {
          "base_uri": "https://localhost:8080/",
          "height": 296
        },
        "id": "iQK1ZuRo11TW",
        "outputId": "c2f8affa-a379-4818-b748-08143fca2265"
      },
      "outputs": [
        {
          "output_type": "execute_result",
          "data": {
            "text/plain": [
              "Text(0, 0.5, 'Titulos vistos')"
            ]
          },
          "metadata": {},
          "execution_count": 95
        },
        {
          "output_type": "display_data",
          "data": {
            "text/plain": [
              "<Figure size 432x288 with 1 Axes>"
            ],
            "image/png": "[encoded data removed]"
          },
          "metadata": {
            "needs_background": "light"
          }
        }
      ],
      "source": [
        "df[\"Start Time\"] = pd.to_datetime(df[\"Start Time\"], errors=\"raise\")  \n",
        "\n",
        "df[\"anio\"] = df[\"Start Time\"].dt.year\n",
        "\n",
        "df[\"anio\"].value_counts(sort=False).plot.bar(rot=0) \n",
        "#https://pandas.pydata.org/docs/reference/api/pandas.DataFrame.plot.bar.html\n",
        "\n",
        "plt.xlabel(\"Año\", fontSize=10)\n",
        "plt.ylabel(\"Titulos vistos\", fontSize=10)"
      ]
    },
    {
      "cell_type": "code",
      "source": [
        "df[\"anio\"].value_counts(sort=False)"
      ],
      "metadata": {
        "colab": {
          "base_uri": "https://localhost:8080/"
        },
        "id": "1s0PefYk71D6",
        "outputId": "72712b22-7852-4fea-a08f-2bba090d42f1"
      },
      "execution_count": 96,
      "outputs": [
        {
          "output_type": "execute_result",
          "data": {
            "text/plain": [
              "2022     294\n",
              "2021     722\n",
              "2020    1016\n",
              "2019     550\n",
              "2018     916\n",
              "2017     795\n",
              "2016     807\n",
              "2015    1191\n",
              "Name: anio, dtype: int64"
            ]
          },
          "metadata": {},
          "execution_count": 96
        }
      ]
    },
    {
      "cell_type": "markdown",
      "metadata": {
        "id": "xPhfj0tzim33"
      },
      "source": [
        "# EJ F"
      ]
    },
    {
      "cell_type": "markdown",
      "metadata": {
        "id": "u8HTPydsDSYG"
      },
      "source": [
        "F) Total de días de todos los títulos reproducidos."
      ]
    },
    {
      "cell_type": "markdown",
      "metadata": {
        "id": "5NX3icwwDSMC"
      },
      "source": [
        "Explicación: Aca hicimos lo mismo que en el punto C1, solo que en lugar de convertir todo a hora, lo hicimos a segundos. Aclaración: Podemos extraee segundos, minutos y horas con las herramientas .dt() de datetime.\n",
        "Despues sumamos todos los segundos con .sum() y lo dividimos por 86400 (la cant de segundos en un dia)"
      ]
    },
    {
      "cell_type": "code",
      "execution_count": 97,
      "metadata": {
        "colab": {
          "base_uri": "https://localhost:8080/"
        },
        "id": "nwTHh_lmddL9",
        "outputId": "2438e262-77a4-458e-ac44-9bddb9b884c8"
      },
      "outputs": [
        {
          "output_type": "execute_result",
          "data": {
            "text/plain": [
              "99.78094907407407"
            ]
          },
          "metadata": {},
          "execution_count": 97
        }
      ],
      "source": [
        "df[\"Duration\"] = pd.to_datetime(df[\"Duration\"], errors=\"raise\") \n",
        "  \n",
        "df[\"Seconds\"] = df[\"Duration\"].dt.hour*3600 + df[\"Duration\"].dt.minute*60 + df[\"Duration\"].dt.second \n",
        "\n",
        "(df[\"Seconds\"]).sum() / 86400"
      ]
    }
  ],
  "metadata": {
    "colab": {
      "collapsed_sections": [],
      "provenance": [],
      "include_colab_link": true
    },
    "kernelspec": {
      "display_name": "Python 3",
      "name": "python3"
    },
    "language_info": {
      "name": "python"
    }
  },
  "nbformat": 4,
  "nbformat_minor": 0
}